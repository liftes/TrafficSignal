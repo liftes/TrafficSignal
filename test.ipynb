{
 "cells": [
  {
   "cell_type": "code",
   "execution_count": 1,
   "metadata": {},
   "outputs": [],
   "source": [
    "import model.global_Value as G\n",
    "import model.traffic as gv\n",
    "import model.energy as energy\n",
    "\n",
    "import math\n",
    "import copy\n",
    "import random"
   ]
  },
  {
   "cell_type": "code",
   "execution_count": 2,
   "metadata": {},
   "outputs": [],
   "source": [
    "G.N = 4\n",
    "\n",
    "road_net = gv.Initialize_road_network_random(G.N)\n",
    "\n",
    "X = gv.Initialize_X(G.N)\n",
    "X_last = gv.Initialize_X(G.N)\n",
    "\n",
    "road_attributes, road_toward = gv.Generate_road_attributes(road_net,G.N)\n",
    "road_attributes_last, road_toward = gv.Generate_road_attributes(road_net,G.N)\n",
    "\n",
    "connected_nodes = gv.Get_connected_nodes(road_toward)"
   ]
  },
  {
   "cell_type": "code",
   "execution_count": 3,
   "metadata": {},
   "outputs": [
    {
     "name": "stdout",
     "output_type": "stream",
     "text": [
      "{0: 5, 1: 15, 2: 4, 3: 1, 4: 15, 5: 3, 6: 2, 7: 4, 8: 4, 9: 11}\n",
      "[[ 1.  1. -1.  1.  1.  1. -1. -1. -1.  1.]\n",
      " [-1.  1. -1. -1.  1.  1.  1. -1. -1.  1.]\n",
      " [ 1.  1.  1. -1.  1. -1. -1.  1.  1. -1.]\n",
      " [-1.  1. -1. -1.  1. -1. -1. -1. -1.  1.]]\n"
     ]
    }
   ],
   "source": [
    "X = gv.Initialize_X(10)\n",
    "print(X)\n",
    "X = gv.ReassignStates(X)\n",
    "print(X)"
   ]
  },
  {
   "cell_type": "code",
   "execution_count": 6,
   "metadata": {},
   "outputs": [
    {
     "name": "stdout",
     "output_type": "stream",
     "text": [
      "-1 -1 -1 -1 \n",
      "1 -1 -1 -1 \n",
      "-1 1 -1 -1 \n",
      "1 1 -1 -1 \n",
      "-1 -1 1 -1 \n",
      "1 -1 1 -1 \n",
      "-1 1 1 -1 \n",
      "1 1 1 -1 \n",
      "-1 -1 -1 1 \n",
      "1 -1 -1 1 \n",
      "-1 1 -1 1 \n",
      "1 1 -1 1 \n",
      "-1 -1 1 1 \n",
      "1 -1 1 1 \n",
      "-1 1 1 1 \n"
     ]
    }
   ],
   "source": [
    "for i in range(15):\n",
    "    for c in range(1,5):\n",
    "        tmp = energy.Get_bit(i,c)\n",
    "        print(tmp,end=\" \")\n",
    "    print(\"\")"
   ]
  },
  {
   "cell_type": "code",
   "execution_count": 3,
   "metadata": {},
   "outputs": [],
   "source": [
    "road_net = gv.Initialize_road_network_random(4)\n",
    "\n",
    "X = gv.Initialize_X(G.N)\n",
    "\n",
    "road_attributes = gv.Generate_road_attributes(road_net)\n",
    "\n",
    "connected_nodes = gv.Get_connected_nodes(road_attributes)"
   ]
  },
  {
   "cell_type": "code",
   "execution_count": 4,
   "metadata": {},
   "outputs": [
    {
     "name": "stdout",
     "output_type": "stream",
     "text": [
      "{(0, 1): {'left_turn_probability': 0.044542589959106316, 'right_turn_probability': 0.687420919845293, 'traffic_flow': 60, 'direction': 'east'}, (1, 0): {'left_turn_probability': 0.044542589959106316, 'right_turn_probability': 0.687420919845293, 'traffic_flow': 60, 'direction': 'west'}, (0, 2): {'left_turn_probability': 0.7617469373617951, 'right_turn_probability': 0.15779206437099721, 'traffic_flow': 14, 'direction': 'south'}, (2, 0): {'left_turn_probability': 0.7617469373617951, 'right_turn_probability': 0.15779206437099721, 'traffic_flow': 14, 'direction': 'north'}, (1, 3): {'left_turn_probability': 0.22637910714633547, 'right_turn_probability': 0.01896903347245715, 'traffic_flow': 5, 'direction': 'south'}, (3, 1): {'left_turn_probability': 0.22637910714633547, 'right_turn_probability': 0.01896903347245715, 'traffic_flow': 5, 'direction': 'north'}, (2, 3): {'left_turn_probability': 0.6831850178917617, 'right_turn_probability': 0.2656110808149374, 'traffic_flow': 100, 'direction': 'east'}, (3, 2): {'left_turn_probability': 0.6831850178917617, 'right_turn_probability': 0.2656110808149374, 'traffic_flow': 100, 'direction': 'west'}}\n",
      "{0: [1, 2], 1: [0, 3], 2: [0, 3], 3: [1, 2]}\n"
     ]
    }
   ],
   "source": [
    "print(road_attributes)\n",
    "print(connected_nodes)"
   ]
  }
 ],
 "metadata": {
  "kernelspec": {
   "display_name": "py3.7",
   "language": "python",
   "name": "python3"
  },
  "language_info": {
   "codemirror_mode": {
    "name": "ipython",
    "version": 3
   },
   "file_extension": ".py",
   "mimetype": "text/x-python",
   "name": "python",
   "nbconvert_exporter": "python",
   "pygments_lexer": "ipython3",
   "version": "3.7.13"
  }
 },
 "nbformat": 4,
 "nbformat_minor": 2
}
