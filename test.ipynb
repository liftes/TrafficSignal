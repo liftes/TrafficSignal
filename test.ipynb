{
 "cells": [
  {
   "cell_type": "code",
   "execution_count": 2,
   "metadata": {},
   "outputs": [],
   "source": [
    "import model.global_Value as G\n",
    "import model.traffic as gv\n",
    "import model.energy as energy\n",
    "\n",
    "import math\n",
    "import copy\n",
    "import random"
   ]
  },
  {
   "cell_type": "code",
   "execution_count": 6,
   "metadata": {},
   "outputs": [
    {
     "name": "stdout",
     "output_type": "stream",
     "text": [
      "{0: 14, 1: 5, 2: 7, 3: 1, 4: 15, 5: 4, 6: 11, 7: 6, 8: 3}\n",
      "{0: 10, 1: 12, 2: 0, 3: 3, 4: 14, 5: 5, 6: 6, 7: 14, 8: 12}\n",
      "{'a': array([[0.85992737, 0.        , 0.        , 0.89174466],\n",
      "       [0.91623433, 0.        , 0.85992737, 0.19864724],\n",
      "       [0.        , 0.        , 0.91623433, 0.85296353],\n",
      "       [0.53492706, 0.89174466, 0.        , 0.40678928],\n",
      "       [0.03674573, 0.19864724, 0.53492706, 0.01343216],\n",
      "       [0.        , 0.85296353, 0.03674573, 0.03063857],\n",
      "       [0.19244004, 0.40678928, 0.        , 0.        ],\n",
      "       [0.78599677, 0.01343216, 0.19244004, 0.        ],\n",
      "       [0.        , 0.03063857, 0.78599677, 0.        ]]), 'b': array([[0.08650162, 0.        , 0.        , 0.03858222],\n",
      "       [0.043471  , 0.        , 0.08650162, 0.21210205],\n",
      "       [0.        , 0.        , 0.043471  , 0.07026705],\n",
      "       [0.13812573, 0.03858222, 0.        , 0.24875949],\n",
      "       [0.24825144, 0.21210205, 0.13812573, 0.55642547],\n",
      "       [0.        , 0.07026705, 0.24825144, 0.35809084],\n",
      "       [0.34973208, 0.24875949, 0.        , 0.        ],\n",
      "       [0.02467753, 0.55642547, 0.34973208, 0.        ],\n",
      "       [0.        , 0.35809084, 0.02467753, 0.        ]]), 'q': array([[81,  0,  0, 20],\n",
      "       [39,  0, 81, 45],\n",
      "       [ 0,  0, 39, 37],\n",
      "       [50, 20,  0, 54],\n",
      "       [56, 45, 50, 47],\n",
      "       [ 0, 37, 56, 45],\n",
      "       [ 0, 54,  0,  0],\n",
      "       [45, 47,  0,  0],\n",
      "       [ 0, 45, 45,  0]])}\n",
      "{0: [1, 3], 1: [0, 2, 4], 3: [0, 4, 6], 2: [1, 5], 4: [1, 3, 5, 7], 5: [8, 2, 4], 6: [3, 7], 7: [8, 4, 6], 8: [5, 7]}\n",
      "{(0, 1): {'direction': 'east'}, (1, 0): {'direction': 'west'}, (0, 3): {'direction': 'south'}, (3, 0): {'direction': 'north'}, (1, 2): {'direction': 'east'}, (2, 1): {'direction': 'west'}, (1, 4): {'direction': 'south'}, (4, 1): {'direction': 'north'}, (2, 5): {'direction': 'south'}, (5, 2): {'direction': 'north'}, (3, 4): {'direction': 'east'}, (4, 3): {'direction': 'west'}, (3, 6): {'direction': 'south'}, (6, 3): {'direction': 'north'}, (4, 5): {'direction': 'east'}, (5, 4): {'direction': 'west'}, (4, 7): {'direction': 'south'}, (7, 4): {'direction': 'north'}, (5, 8): {'direction': 'south'}, (8, 5): {'direction': 'north'}, (6, 7): {'direction': 'east'}, (7, 6): {'direction': 'west'}, (7, 8): {'direction': 'east'}, (8, 7): {'direction': 'west'}}\n"
     ]
    }
   ],
   "source": [
    "    G.N = 9\n",
    "    X, X_last, road_attributes, road_attributes_last, connected_nodes, road_toward = gv.InitAll() # 使用实际数据时，这里只需要给出connected_nodes, road_toward，然后随机化X和X_last\n",
    "    X_copy = copy.deepcopy(X)\n",
    "\n",
    "    print(X)\n",
    "    print(X_last)\n",
    "    print(road_attributes)\n",
    "    print(connected_nodes)\n",
    "    print(road_toward)"
   ]
  },
  {
   "cell_type": "code",
   "execution_count": 2,
   "metadata": {},
   "outputs": [],
   "source": [
    "G.N = 4\n",
    "\n",
    "road_net = gv.Initialize_road_network_random(G.N)\n",
    "\n",
    "X = gv.Initialize_X(G.N)\n",
    "X_last = gv.Initialize_X(G.N)\n",
    "\n",
    "road_attributes, road_toward = gv.Generate_road_attributes(road_net,G.N)\n",
    "road_attributes_last, road_toward = gv.Generate_road_attributes(road_net,G.N)\n",
    "\n",
    "connected_nodes = gv.Get_connected_nodes(road_toward)"
   ]
  },
  {
   "cell_type": "code",
   "execution_count": 3,
   "metadata": {},
   "outputs": [
    {
     "name": "stdout",
     "output_type": "stream",
     "text": [
      "{0: 5, 1: 15, 2: 4, 3: 1, 4: 15, 5: 3, 6: 2, 7: 4, 8: 4, 9: 11}\n",
      "[[ 1.  1. -1.  1.  1.  1. -1. -1. -1.  1.]\n",
      " [-1.  1. -1. -1.  1.  1.  1. -1. -1.  1.]\n",
      " [ 1.  1.  1. -1.  1. -1. -1.  1.  1. -1.]\n",
      " [-1.  1. -1. -1.  1. -1. -1. -1. -1.  1.]]\n"
     ]
    }
   ],
   "source": [
    "X = gv.Initialize_X(10)\n",
    "print(X)\n",
    "X = gv.ReassignStates(X)\n",
    "print(X)"
   ]
  },
  {
   "cell_type": "code",
   "execution_count": 6,
   "metadata": {},
   "outputs": [
    {
     "name": "stdout",
     "output_type": "stream",
     "text": [
      "-1 -1 -1 -1 \n",
      "1 -1 -1 -1 \n",
      "-1 1 -1 -1 \n",
      "1 1 -1 -1 \n",
      "-1 -1 1 -1 \n",
      "1 -1 1 -1 \n",
      "-1 1 1 -1 \n",
      "1 1 1 -1 \n",
      "-1 -1 -1 1 \n",
      "1 -1 -1 1 \n",
      "-1 1 -1 1 \n",
      "1 1 -1 1 \n",
      "-1 -1 1 1 \n",
      "1 -1 1 1 \n",
      "-1 1 1 1 \n"
     ]
    }
   ],
   "source": [
    "for i in range(15):\n",
    "    for c in range(1,5):\n",
    "        tmp = energy.Get_bit(i,c)\n",
    "        print(tmp,end=\" \")\n",
    "    print(\"\")"
   ]
  },
  {
   "cell_type": "code",
   "execution_count": 3,
   "metadata": {},
   "outputs": [],
   "source": [
    "road_net = gv.Initialize_road_network_random(4)\n",
    "\n",
    "X = gv.Initialize_X(G.N)\n",
    "\n",
    "road_attributes = gv.Generate_road_attributes(road_net)\n",
    "\n",
    "connected_nodes = gv.Get_connected_nodes(road_attributes)"
   ]
  },
  {
   "cell_type": "code",
   "execution_count": 4,
   "metadata": {},
   "outputs": [
    {
     "name": "stdout",
     "output_type": "stream",
     "text": [
      "{(0, 1): {'left_turn_probability': 0.044542589959106316, 'right_turn_probability': 0.687420919845293, 'traffic_flow': 60, 'direction': 'east'}, (1, 0): {'left_turn_probability': 0.044542589959106316, 'right_turn_probability': 0.687420919845293, 'traffic_flow': 60, 'direction': 'west'}, (0, 2): {'left_turn_probability': 0.7617469373617951, 'right_turn_probability': 0.15779206437099721, 'traffic_flow': 14, 'direction': 'south'}, (2, 0): {'left_turn_probability': 0.7617469373617951, 'right_turn_probability': 0.15779206437099721, 'traffic_flow': 14, 'direction': 'north'}, (1, 3): {'left_turn_probability': 0.22637910714633547, 'right_turn_probability': 0.01896903347245715, 'traffic_flow': 5, 'direction': 'south'}, (3, 1): {'left_turn_probability': 0.22637910714633547, 'right_turn_probability': 0.01896903347245715, 'traffic_flow': 5, 'direction': 'north'}, (2, 3): {'left_turn_probability': 0.6831850178917617, 'right_turn_probability': 0.2656110808149374, 'traffic_flow': 100, 'direction': 'east'}, (3, 2): {'left_turn_probability': 0.6831850178917617, 'right_turn_probability': 0.2656110808149374, 'traffic_flow': 100, 'direction': 'west'}}\n",
      "{0: [1, 2], 1: [0, 3], 2: [0, 3], 3: [1, 2]}\n"
     ]
    }
   ],
   "source": [
    "print(road_attributes)\n",
    "print(connected_nodes)"
   ]
  }
 ],
 "metadata": {
  "kernelspec": {
   "display_name": "py3.7",
   "language": "python",
   "name": "python3"
  },
  "language_info": {
   "codemirror_mode": {
    "name": "ipython",
    "version": 3
   },
   "file_extension": ".py",
   "mimetype": "text/x-python",
   "name": "python",
   "nbconvert_exporter": "python",
   "pygments_lexer": "ipython3",
   "version": "3.7.13"
  }
 },
 "nbformat": 4,
 "nbformat_minor": 2
}
