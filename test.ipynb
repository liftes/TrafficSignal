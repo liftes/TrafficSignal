{
 "cells": [
  {
   "cell_type": "code",
   "execution_count": 1,
   "metadata": {},
   "outputs": [],
   "source": [
    "import model.global_Value as G\n",
    "import model.traffic as gv\n",
    "import model.energy as energy\n",
    "\n",
    "import math\n",
    "import copy\n",
    "import random"
   ]
  },
  {
   "cell_type": "code",
   "execution_count": 4,
   "metadata": {},
   "outputs": [
    {
     "name": "stdout",
     "output_type": "stream",
     "text": [
      "0 1 0\n",
      "0 2 0\n",
      "0 3 0\n",
      "0 4 0\n",
      "1 1 1\n",
      "1 2 0\n",
      "1 3 0\n",
      "1 4 0\n",
      "2 1 0\n",
      "2 2 1\n",
      "2 3 0\n",
      "2 4 0\n",
      "3 1 1\n",
      "3 2 1\n",
      "3 3 0\n",
      "3 4 0\n",
      "4 1 0\n",
      "4 2 0\n",
      "4 3 1\n",
      "4 4 0\n",
      "5 1 1\n",
      "5 2 0\n",
      "5 3 1\n",
      "5 4 0\n",
      "6 1 0\n",
      "6 2 1\n",
      "6 3 1\n",
      "6 4 0\n",
      "7 1 1\n",
      "7 2 1\n",
      "7 3 1\n",
      "7 4 0\n",
      "8 1 0\n",
      "8 2 0\n",
      "8 3 0\n",
      "8 4 1\n",
      "9 1 1\n",
      "9 2 0\n",
      "9 3 0\n",
      "9 4 1\n",
      "10 1 0\n",
      "10 2 1\n",
      "10 3 0\n",
      "10 4 1\n",
      "11 1 1\n",
      "11 2 1\n",
      "11 3 0\n",
      "11 4 1\n",
      "12 1 0\n",
      "12 2 0\n",
      "12 3 1\n",
      "12 4 1\n",
      "13 1 1\n",
      "13 2 0\n",
      "13 3 1\n",
      "13 4 1\n",
      "14 1 0\n",
      "14 2 1\n",
      "14 3 1\n",
      "14 4 1\n",
      "15 1 1\n",
      "15 2 1\n",
      "15 3 1\n",
      "15 4 1\n"
     ]
    }
   ],
   "source": [
    "for i in range(16):\n",
    "    for j in range(1,5):\n",
    "        print(i,j,energy.Get_bit(i,j))"
   ]
  }
 ],
 "metadata": {
  "kernelspec": {
   "display_name": "py3.7",
   "language": "python",
   "name": "python3"
  },
  "language_info": {
   "codemirror_mode": {
    "name": "ipython",
    "version": 3
   },
   "file_extension": ".py",
   "mimetype": "text/x-python",
   "name": "python",
   "nbconvert_exporter": "python",
   "pygments_lexer": "ipython3",
   "version": "3.7.13"
  }
 },
 "nbformat": 4,
 "nbformat_minor": 2
}
